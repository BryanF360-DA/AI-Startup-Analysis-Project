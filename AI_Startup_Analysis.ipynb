{
  "nbformat": 4,
  "nbformat_minor": 0,
  "metadata": {
    "colab": {
      "provenance": []
    },
    "kernelspec": {
      "name": "python3",
      "display_name": "Python 3"
    },
    "language_info": {
      "name": "python"
    }
  },
  "cells": [
    {
      "cell_type": "code",
      "execution_count": 14,
      "metadata": {
        "colab": {
          "base_uri": "https://localhost:8080/"
        },
        "id": "FdMyHHgJuLfr",
        "outputId": "d22cdf3f-2cad-48aa-ab75-bd89fcada97d"
      },
      "outputs": [
        {
          "output_type": "stream",
          "name": "stdout",
          "text": [
            "Cleaned list length: 81\n",
            "Cleaned List: ['OpenAI', 'Google', 'IBM', 'Microsoft', 'NVIDIA', 'Anthropic', 'Amazon', 'Anduril', 'MaestroQA', 'EliseAI', 'Kustomer', 'Grammarly', 'Nexthink', 'Notion', 'Flatfile', 'Greenlight Guru', 'Motive', 'Kensho Technologies', 'Machina Labs, Inc', 'Artera', 'GrayMatter Robotics', 'Klaviyo', 'VORTO', 'EDB', 'Publica by IAS', 'System1', 'PwC', 'InspiringApps', 'Smartly', 'Domino Data Lab', 'Northwestern Mutual', 'General Motors', 'Clari', 'Metropolis Technologies', 'Lily AI', 'Samsara', 'Redflag AI', 'Gradient AI', 'AMP', 'LogRocket', 'Sojern', 'Acrisure Innovation', 'STR', 'Veritone', 'LogicMonitor', 'Riskified', 'Tempus AI', '3Play Media', 'Drata', 'Shield AI', 'CrowdStrike', 'Prosodica', 'Hyperscience', 'Valtech', 'Striveworks', 'AnthologyAI', 'Blueprint Test Prep', 'Consensus Cloud Solutions', 'Exabeam', 'Ascent', 'Laudio', 'Crusoe Energy Systems', 'Smartcat', 'Cisco ThousandEyes', 'Gynger', 'Hedra', 'Coupa', 'Quantum Rise', 'Regal.ai', 'Hebbia AI', 'True Anomaly', 'Atlassian', 'Air Space Intelligence', 'Cisco Meraki', 'Dynatrace', 'Airwallex', 'The Aerospace Corporation', 'Granica', 'AKASA', 'Superblocks', 'Northslope Technologies']\n"
          ]
        }
      ],
      "source": [
        "# Find all the h3 tags on the page\n",
        "company_tags = soup.find_all('h3')\n",
        "# print(company_tags) # Commented out - we don't need to see this anymore\n",
        "\n",
        "# ... (loop to get text) ...\n",
        "# print(company_names) # Commented out - we don't need to see this anymore\n",
        "\n",
        "# ... (slicing to clean the list) ...\n",
        "\n",
        "# Print statements for validation.\n",
        "print(f\"Cleaned list length: {len(cleaned_company_names)}\")\n",
        "print(\"Cleaned List:\", cleaned_company_names)"
      ]
    }
  ]
}