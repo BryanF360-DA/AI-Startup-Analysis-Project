# Find all the h3 tags on the page
company_tags = soup.find_all('h3')
# print(company_tags) # Commented out - we don't need to see this anymore

# ... (loop to get text) ...
# print(company_names) # Commented out - we don't need to see this anymore

# ... (slicing to clean the list) ...

# Print statements for validation.
print(f"Cleaned list length: {len(cleaned_company_names)}")
print("Cleaned List:", cleaned_company_names)
