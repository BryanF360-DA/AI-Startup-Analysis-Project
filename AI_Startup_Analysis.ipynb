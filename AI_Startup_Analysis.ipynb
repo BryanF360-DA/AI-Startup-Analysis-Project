{
  "nbformat": 4,
  "nbformat_minor": 0,
  "metadata": {
    "colab": {
      "provenance": []
    },
    "kernelspec": {
      "name": "python3",
      "display_name": "Python 3"
    },
    "language_info": {
      "name": "python"
    }
  },
  "cells": [
    {
      "cell_type": "code",
      "execution_count": 11,
      "metadata": {
        "colab": {
          "base_uri": "https://localhost:8080/"
        },
        "id": "FdMyHHgJuLfr",
        "outputId": "f2d4fe62-5ec8-4143-9aa7-442091b9d602"
      },
      "outputs": [
        {
          "output_type": "stream",
          "name": "stdout",
          "text": [
            "Setup Complete. HTML is ready to be searched.\n",
            "[<h3 class=\"title\"><a href=\"/company/openai\" target=\"_blank\">OpenAI</a></h3>, <h3 class=\"title\"><a href=\"/company/google\" target=\"_blank\">Google</a></h3>, <h3 class=\"title\"><a href=\"/company/ibm\" target=\"_blank\">IBM</a></h3>, <h3 class=\"title\"><a href=\"/company/microsoft\" target=\"_blank\">Microsoft</a></h3>, <h3 class=\"title\"><a href=\"/company/nvidia\" target=\"_blank\">NVIDIA</a></h3>, <h3 class=\"title\"><a href=\"/company/anthropic\" target=\"_blank\">Anthropic</a></h3>, <h3 class=\"title\"><a href=\"/company/amazon\" target=\"_blank\">Amazon</a></h3>, <h3 class=\"title\"><a href=\"/company/anduril\" target=\"_blank\">Anduril</a></h3>, <h3 class=\"title\"><a href=\"/company/maestroqa\" target=\"_blank\">MaestroQA</a></h3>, <h3 class=\"title\"><a href=\"/company/eliseai\" target=\"_blank\">EliseAI</a></h3>, <h3 class=\"title\"><a href=\"/company/kustomer\" target=\"_blank\">Kustomer</a></h3>, <h3 class=\"title\"><a href=\"/company/grammarly\" target=\"_blank\">Grammarly</a></h3>, <h3 class=\"title\"><a href=\"/company/nexthink\" target=\"_blank\">Nexthink</a></h3>, <h3 class=\"title\"><a href=\"/company/notion\" target=\"_blank\">Notion</a></h3>, <h3 class=\"title\"><a href=\"/company/flatfile\" target=\"_blank\">Flatfile</a></h3>, <h3 class=\"title\"><a href=\"/company/greenlight-guru\" target=\"_blank\">Greenlight Guru</a></h3>, <h3 class=\"title\"><a href=\"/company/motive\" target=\"_blank\">Motive</a></h3>, <h3 class=\"title\"><a href=\"/company/kensho-technologies\" target=\"_blank\">Kensho Technologies</a></h3>, <h3 class=\"title\"><a href=\"/company/machina-labs-inc\" target=\"_blank\">Machina Labs, Inc</a></h3>, <h3 class=\"title\"><a href=\"/company/artera\" target=\"_blank\">Artera</a></h3>, <h3 class=\"title\"><a href=\"/company/graymatter-robotics\" target=\"_blank\">GrayMatter Robotics</a></h3>, <h3 class=\"title\"><a href=\"/company/klaviyo\" target=\"_blank\">Klaviyo</a></h3>, <h3 class=\"title\"><a href=\"/company/vorto\" target=\"_blank\">VORTO</a></h3>, <h3 class=\"title\"><a href=\"/company/edb\" target=\"_blank\">EDB</a></h3>, <h3 class=\"title\"><a href=\"/company/publica-llc\" target=\"_blank\">Publica by IAS</a></h3>, <h3 class=\"title\"><a href=\"/company/system1\" target=\"_blank\">System1</a></h3>, <h3 class=\"title\"><a href=\"/company/pwc\" target=\"_blank\">PwC</a></h3>, <h3 class=\"title\"><a href=\"/company/inspiringapps\" target=\"_blank\">InspiringApps</a></h3>, <h3 class=\"title\"><a href=\"/company/smartlyio\" target=\"_blank\">Smartly</a></h3>, <h3 class=\"title\"><a href=\"/company/domino-data-lab\" target=\"_blank\">Domino Data Lab</a></h3>, <h3 class=\"title\"><a href=\"/company/northwestern-mutual\" target=\"_blank\">Northwestern Mutual</a></h3>, <h3 class=\"title\"><a href=\"/company/general-motors\" target=\"_blank\">General Motors</a></h3>, <h3 class=\"title\"><a href=\"/company/clari\" target=\"_blank\">Clari</a></h3>, <h3 class=\"title\"><a href=\"/company/metropolis-technologies\" target=\"_blank\">Metropolis Technologies</a></h3>, <h3 class=\"title\"><a href=\"/company/lily-ai\" target=\"_blank\">Lily AI</a></h3>, <h3 class=\"title\"><a href=\"/company/samsara\" target=\"_blank\">Samsara</a></h3>, <h3 class=\"title\"><a href=\"/company/redflag-ai\" target=\"_blank\">Redflag AI</a></h3>, <h3 class=\"title\"><a href=\"/company/gradient-ai\" target=\"_blank\">Gradient AI</a></h3>, <h3 class=\"title\"><a href=\"/company/amp-robotics\" target=\"_blank\">AMP</a></h3>, <h3 class=\"title\"><a href=\"/company/logrocket\" target=\"_blank\">LogRocket</a></h3>, <h3 class=\"title\"><a href=\"/company/sojern\" target=\"_blank\">Sojern</a></h3>, <h3 class=\"title\"><a href=\"/company/acrisure-innovation\" target=\"_blank\">Acrisure Innovation</a></h3>, <h3 class=\"title\"><a href=\"/company/str\" target=\"_blank\">STR</a></h3>, <h3 class=\"title\"><a href=\"/company/veritone\" target=\"_blank\">Veritone</a></h3>, <h3 class=\"title\"><a href=\"/company/logicmonitor\" target=\"_blank\">LogicMonitor</a></h3>, <h3 class=\"title\"><a href=\"/company/riskified\" target=\"_blank\">Riskified</a></h3>, <h3 class=\"title\"><a href=\"/company/tempus\" target=\"_blank\">Tempus AI</a></h3>, <h3 class=\"title\"><a href=\"/company/3play-media\" target=\"_blank\">3Play Media</a></h3>, <h3 class=\"title\"><a href=\"/company/drata\" target=\"_blank\">Drata</a></h3>, <h3 class=\"title\"><a href=\"/company/shield-ai\" target=\"_blank\">Shield AI</a></h3>, <h3 class=\"title\"><a href=\"/company/crowdstrike\" target=\"_blank\">CrowdStrike</a></h3>, <h3 class=\"title\"><a href=\"/company/prosodica\" target=\"_blank\">Prosodica</a></h3>, <h3 class=\"title\"><a href=\"/company/hyperscience\" target=\"_blank\">Hyperscience</a></h3>, <h3 class=\"title\"><a href=\"/company/valtech-1\" target=\"_blank\">Valtech</a></h3>, <h3 class=\"title\"><a href=\"/company/striveworks\" target=\"_blank\">Striveworks</a></h3>, <h3 class=\"title\"><a href=\"/company/anthologyai\" target=\"_blank\">AnthologyAI</a></h3>, <h3 class=\"title\"><a href=\"/company/blueprint-test-prep\" target=\"_blank\">Blueprint Test Prep</a></h3>, <h3 class=\"title\"><a href=\"/company/consensus-cloud-solutions\" target=\"_blank\">Consensus Cloud Solutions</a></h3>, <h3 class=\"title\"><a href=\"/company/exabeam-0\" target=\"_blank\">Exabeam</a></h3>, <h3 class=\"title\"><a href=\"/company/ascent\" target=\"_blank\">Ascent</a></h3>, <h3 class=\"title\"><a href=\"/company/laudio\" target=\"_blank\">Laudio</a></h3>, <h3 class=\"title\"><a href=\"/company/crusoe\" target=\"_blank\">Crusoe Energy Systems</a></h3>, <h3 class=\"title\"><a href=\"/company/smartcat\" target=\"_blank\">Smartcat</a></h3>, <h3 class=\"title\"><a href=\"/company/thousandeyes-part-cisco\" target=\"_blank\">Cisco ThousandEyes</a></h3>, <h3 class=\"title\"><a href=\"/company/gynger\" target=\"_blank\">Gynger</a></h3>, <h3 class=\"title\"><a href=\"/company/hedra\" target=\"_blank\">Hedra</a></h3>, <h3 class=\"title\"><a href=\"/company/coupa-software-0\" target=\"_blank\">Coupa</a></h3>, <h3 class=\"title\"><a href=\"/company/quantum-rise\" target=\"_blank\">Quantum Rise</a></h3>, <h3 class=\"title\"><a href=\"/company/regalio\" target=\"_blank\">Regal.ai</a></h3>, <h3 class=\"title\"><a href=\"/company/hebbia-ai\" target=\"_blank\">Hebbia AI</a></h3>, <h3 class=\"title\"><a href=\"/company/true-anomaly\" target=\"_blank\">True Anomaly</a></h3>, <h3 class=\"title\"><a href=\"/company/atlassian\" target=\"_blank\">Atlassian</a></h3>, <h3 class=\"title\"><a href=\"/company/air-space-intelligence\" target=\"_blank\">Air Space Intelligence</a></h3>, <h3 class=\"title\"><a href=\"/company/cisco-meraki\" target=\"_blank\">Cisco Meraki</a></h3>, <h3 class=\"title\"><a href=\"/company/dynatrace\" target=\"_blank\">Dynatrace</a></h3>, <h3 class=\"title\"><a href=\"/company/airwallex\" target=\"_blank\">Airwallex</a></h3>, <h3 class=\"title\"><a href=\"/company/aerospace-corporation\" target=\"_blank\">The Aerospace Corporation</a></h3>, <h3 class=\"title\"><a href=\"/company/granica\" target=\"_blank\">Granica</a></h3>, <h3 class=\"title\"><a href=\"/company/akasa\" target=\"_blank\">AKASA</a></h3>, <h3 class=\"title\"><a href=\"/company/superblocks\" target=\"_blank\">Superblocks</a></h3>, <h3 class=\"title\"><a href=\"/company/northslope-technologies\" target=\"_blank\">Northslope Technologies</a></h3>, <h3 class=\"font-Montserrat fw-bold fs-2xl text-midnight mb-md\">Recent Artificial Intelligence Articles</h3>]\n",
            "['OpenAI', 'Google', 'IBM', 'Microsoft', 'NVIDIA', 'Anthropic', 'Amazon', 'Anduril', 'MaestroQA', 'EliseAI', 'Kustomer', 'Grammarly', 'Nexthink', 'Notion', 'Flatfile', 'Greenlight Guru', 'Motive', 'Kensho Technologies', 'Machina Labs, Inc', 'Artera', 'GrayMatter Robotics', 'Klaviyo', 'VORTO', 'EDB', 'Publica by IAS', 'System1', 'PwC', 'InspiringApps', 'Smartly', 'Domino Data Lab', 'Northwestern Mutual', 'General Motors', 'Clari', 'Metropolis Technologies', 'Lily AI', 'Samsara', 'Redflag AI', 'Gradient AI', 'AMP', 'LogRocket', 'Sojern', 'Acrisure Innovation', 'STR', 'Veritone', 'LogicMonitor', 'Riskified', 'Tempus AI', '3Play Media', 'Drata', 'Shield AI', 'CrowdStrike', 'Prosodica', 'Hyperscience', 'Valtech', 'Striveworks', 'AnthologyAI', 'Blueprint Test Prep', 'Consensus Cloud Solutions', 'Exabeam', 'Ascent', 'Laudio', 'Crusoe Energy Systems', 'Smartcat', 'Cisco ThousandEyes', 'Gynger', 'Hedra', 'Coupa', 'Quantum Rise', 'Regal.ai', 'Hebbia AI', 'True Anomaly', 'Atlassian', 'Air Space Intelligence', 'Cisco Meraki', 'Dynatrace', 'Airwallex', 'The Aerospace Corporation', 'Granica', 'AKASA', 'Superblocks', 'Northslope Technologies', 'Recent Artificial Intelligence Articles']\n",
            "Original list length: 82\n",
            "Cleaned list length: 81\n",
            "First 5 cleaned names: ['OpenAI', 'Google', 'IBM', 'Microsoft', 'NVIDIA', 'Anthropic', 'Amazon', 'Anduril', 'MaestroQA', 'EliseAI', 'Kustomer', 'Grammarly', 'Nexthink', 'Notion', 'Flatfile', 'Greenlight Guru', 'Motive', 'Kensho Technologies', 'Machina Labs, Inc', 'Artera', 'GrayMatter Robotics', 'Klaviyo', 'VORTO', 'EDB', 'Publica by IAS', 'System1', 'PwC', 'InspiringApps', 'Smartly', 'Domino Data Lab', 'Northwestern Mutual', 'General Motors', 'Clari', 'Metropolis Technologies', 'Lily AI', 'Samsara', 'Redflag AI', 'Gradient AI', 'AMP', 'LogRocket', 'Sojern', 'Acrisure Innovation', 'STR', 'Veritone', 'LogicMonitor', 'Riskified', 'Tempus AI', '3Play Media', 'Drata', 'Shield AI', 'CrowdStrike', 'Prosodica', 'Hyperscience', 'Valtech', 'Striveworks', 'AnthologyAI', 'Blueprint Test Prep', 'Consensus Cloud Solutions', 'Exabeam', 'Ascent', 'Laudio', 'Crusoe Energy Systems', 'Smartcat', 'Cisco ThousandEyes', 'Gynger', 'Hedra', 'Coupa', 'Quantum Rise', 'Regal.ai', 'Hebbia AI', 'True Anomaly', 'Atlassian', 'Air Space Intelligence', 'Cisco Meraki', 'Dynatrace', 'Airwallex', 'The Aerospace Corporation', 'Granica', 'AKASA', 'Superblocks', 'Northslope Technologies']\n"
          ]
        }
      ],
      "source": [
        "import requests\n",
        "from bs4 import BeautifulSoup\n",
        "\n",
        "# The URL of the page we want to scrape\n",
        "url = 'https://builtin.com/artificial-intelligence/ai-companies-roundup'\n",
        "\n",
        "# Send a request to download the page\n",
        "response = requests.get(url)\n",
        "\n",
        "# Parse the HTML content\n",
        "soup = BeautifulSoup(response.content, 'html.parser')\n",
        "\n",
        "print(\"Setup Complete. HTML is ready to be searched.\")\n",
        "\n",
        "# Find all the h3 tags on the page\n",
        "company_tags = soup.find_all('h3')\n",
        "\n",
        "# Print the new list\n",
        "print(company_tags)\n",
        "\n",
        "# Create an empty list to store the clean names\n",
        "company_names = []\n",
        "\n",
        "# Loop through each tag in the company_tags list\n",
        "for tag in company_tags:\n",
        "    # Get the text from the tag and add it to our new list\n",
        "    company_names.append(tag.get_text())\n",
        "\n",
        "# Print the final, clean list\n",
        "print(company_names)\n",
        "\n",
        "# Create a new list without the last item\n",
        "cleaned_company_names = company_names[:-1]\n",
        "\n",
        "# Print the length to confirm we have 100 companies\n",
        "print(f\"Original list length: {len(company_names)}\")\n",
        "print(f\"Cleaned list length: {len(cleaned_company_names)}\")\n",
        "print(\"First 5 cleaned names:\", cleaned_company_names)"
      ]
    },
    {
      "cell_type": "code",
      "source": [],
      "metadata": {
        "id": "E29qRhp5vBHg"
      },
      "execution_count": 11,
      "outputs": []
    }
  ]
}